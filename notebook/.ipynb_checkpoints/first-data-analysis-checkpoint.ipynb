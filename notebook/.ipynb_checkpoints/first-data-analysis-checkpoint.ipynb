{
 "cells": [
  {
   "cell_type": "markdown",
   "metadata": {},
   "source": [
    "# Name That Chart Data Analysis\n",
    "\n",
    "This notebook is supplemental material of the submitted article \"*What do you call this kind of chart?* Building an Information Visualization Taxonomy Using Collaborative Crowdsourcing\" at CHI 2018"
   ]
  },
  {
   "cell_type": "code",
   "execution_count": 66,
   "metadata": {
    "collapsed": true
   },
   "outputs": [],
   "source": [
    "import numpy as np\n",
    "import pandas as pd # package for working with data frames in python\n",
    "import seaborn as sns # package for visualization (more on seaborn later)\n",
    "\n",
    "# plots\n",
    "import matplotlib.pyplot as plt\n",
    "from matplotlib.pyplot import pie, axis, show\n",
    "import seaborn as sns\n",
    "sns.set(color_codes=True)\n",
    "\n",
    "# Stats to be included in the LaTeX article\n",
    "stats = {}"
   ]
  },
  {
   "cell_type": "markdown",
   "metadata": {},
   "source": [
    "## Log Events Analysis"
   ]
  },
  {
   "cell_type": "code",
   "execution_count": 67,
   "metadata": {
    "collapsed": true
   },
   "outputs": [],
   "source": [
    "# Retrieving experiment data from the crowdsourcing web app\n",
    "# Data URL https://namethatchart.herokuapp.com/db2csv\n",
    "df = pd.read_csv('data/data-22-08-2017.csv', sep=',') #  index_col=[0]\n",
    "\n",
    "# In case we want to retrieve latest / live data\n",
    "# url = \"https://namethatchart.herokuapp.com/datcsv.csv\"\n",
    "# c=pd.read_csv(url)\n",
    "\n",
    "\n",
    "# TODO:\n",
    "# - Allow to filter by time period \n",
    "# - Remove certain users/IPs we are not interested in"
   ]
  },
  {
   "cell_type": "code",
   "execution_count": 68,
   "metadata": {},
   "outputs": [
    {
     "data": {
      "text/html": [
       "<div>\n",
       "<table border=\"1\" class=\"dataframe\">\n",
       "  <thead>\n",
       "    <tr style=\"text-align: right;\">\n",
       "      <th></th>\n",
       "      <th>task</th>\n",
       "      <th>task_id</th>\n",
       "      <th>iduser</th>\n",
       "      <th>timestamp</th>\n",
       "      <th>date</th>\n",
       "      <th>event</th>\n",
       "      <th>idtype</th>\n",
       "      <th>label</th>\n",
       "      <th>idimg</th>\n",
       "      <th>imagepath</th>\n",
       "    </tr>\n",
       "  </thead>\n",
       "  <tbody>\n",
       "    <tr>\n",
       "      <th>0</th>\n",
       "      <td>textual</td>\n",
       "      <td>textual_3</td>\n",
       "      <td>22</td>\n",
       "      <td>1501074459</td>\n",
       "      <td>2017-07-26 15:07:39.289</td>\n",
       "      <td>submitted</td>\n",
       "      <td>7</td>\n",
       "      <td>bubble chart</td>\n",
       "      <td>143</td>\n",
       "      <td>https://s3.eu-central-1.amazonaws.com/namethat...</td>\n",
       "    </tr>\n",
       "    <tr>\n",
       "      <th>1</th>\n",
       "      <td>textual</td>\n",
       "      <td>textual_7</td>\n",
       "      <td>22</td>\n",
       "      <td>1501075088</td>\n",
       "      <td>2017-07-26 15:18:08.598</td>\n",
       "      <td>submitted</td>\n",
       "      <td>8</td>\n",
       "      <td>tree diagram</td>\n",
       "      <td>238</td>\n",
       "      <td>https://s3.eu-central-1.amazonaws.com/namethat...</td>\n",
       "    </tr>\n",
       "    <tr>\n",
       "      <th>2</th>\n",
       "      <td>textual</td>\n",
       "      <td>textual_8</td>\n",
       "      <td>22</td>\n",
       "      <td>1501075105</td>\n",
       "      <td>2017-07-26 15:18:25.580</td>\n",
       "      <td>submitted</td>\n",
       "      <td>9</td>\n",
       "      <td>candlestick chart</td>\n",
       "      <td>7</td>\n",
       "      <td>https://s3.eu-central-1.amazonaws.com/namethat...</td>\n",
       "    </tr>\n",
       "    <tr>\n",
       "      <th>3</th>\n",
       "      <td>textual</td>\n",
       "      <td>textual_9</td>\n",
       "      <td>22</td>\n",
       "      <td>1501075113</td>\n",
       "      <td>2017-07-26 15:18:33.395</td>\n",
       "      <td>submitted</td>\n",
       "      <td>8</td>\n",
       "      <td>tree diagram</td>\n",
       "      <td>81</td>\n",
       "      <td>https://s3.eu-central-1.amazonaws.com/namethat...</td>\n",
       "    </tr>\n",
       "    <tr>\n",
       "      <th>4</th>\n",
       "      <td>textual</td>\n",
       "      <td>textual_10</td>\n",
       "      <td>22</td>\n",
       "      <td>1501075119</td>\n",
       "      <td>2017-07-26 15:18:39.158</td>\n",
       "      <td>submitted</td>\n",
       "      <td>8</td>\n",
       "      <td>tree diagram</td>\n",
       "      <td>217</td>\n",
       "      <td>https://s3.eu-central-1.amazonaws.com/namethat...</td>\n",
       "    </tr>\n",
       "    <tr>\n",
       "      <th>5</th>\n",
       "      <td>textual</td>\n",
       "      <td>textual_11</td>\n",
       "      <td>22</td>\n",
       "      <td>1501075131</td>\n",
       "      <td>2017-07-26 15:18:51.656</td>\n",
       "      <td>submitted</td>\n",
       "      <td>9</td>\n",
       "      <td>candlestick chart</td>\n",
       "      <td>222</td>\n",
       "      <td>https://s3.eu-central-1.amazonaws.com/namethat...</td>\n",
       "    </tr>\n",
       "    <tr>\n",
       "      <th>6</th>\n",
       "      <td>textual</td>\n",
       "      <td>textual_12</td>\n",
       "      <td>22</td>\n",
       "      <td>1501075143</td>\n",
       "      <td>2017-07-26 15:19:03.262</td>\n",
       "      <td>submitted</td>\n",
       "      <td>7</td>\n",
       "      <td>bubble chart</td>\n",
       "      <td>146</td>\n",
       "      <td>https://s3.eu-central-1.amazonaws.com/namethat...</td>\n",
       "    </tr>\n",
       "    <tr>\n",
       "      <th>7</th>\n",
       "      <td>textual</td>\n",
       "      <td>textual_13</td>\n",
       "      <td>22</td>\n",
       "      <td>1501075155</td>\n",
       "      <td>2017-07-26 15:19:15.433</td>\n",
       "      <td>submitted</td>\n",
       "      <td>7</td>\n",
       "      <td>bubble chart</td>\n",
       "      <td>48</td>\n",
       "      <td>https://s3.eu-central-1.amazonaws.com/namethat...</td>\n",
       "    </tr>\n",
       "    <tr>\n",
       "      <th>8</th>\n",
       "      <td>textual</td>\n",
       "      <td>textual_14</td>\n",
       "      <td>22</td>\n",
       "      <td>1501075162</td>\n",
       "      <td>2017-07-26 15:19:22.597</td>\n",
       "      <td>submitted</td>\n",
       "      <td>10</td>\n",
       "      <td>network diagram</td>\n",
       "      <td>191</td>\n",
       "      <td>https://s3.eu-central-1.amazonaws.com/namethat...</td>\n",
       "    </tr>\n",
       "    <tr>\n",
       "      <th>9</th>\n",
       "      <td>textual</td>\n",
       "      <td>textual_15</td>\n",
       "      <td>22</td>\n",
       "      <td>1501075170</td>\n",
       "      <td>2017-07-26 15:19:30.230</td>\n",
       "      <td>submitted</td>\n",
       "      <td>8</td>\n",
       "      <td>tree diagram</td>\n",
       "      <td>78</td>\n",
       "      <td>https://s3.eu-central-1.amazonaws.com/namethat...</td>\n",
       "    </tr>\n",
       "    <tr>\n",
       "      <th>10</th>\n",
       "      <td>textual</td>\n",
       "      <td>textual_16</td>\n",
       "      <td>22</td>\n",
       "      <td>1501075176</td>\n",
       "      <td>2017-07-26 15:19:36.075</td>\n",
       "      <td>submitted</td>\n",
       "      <td>7</td>\n",
       "      <td>bubble chart</td>\n",
       "      <td>49</td>\n",
       "      <td>https://s3.eu-central-1.amazonaws.com/namethat...</td>\n",
       "    </tr>\n",
       "    <tr>\n",
       "      <th>11</th>\n",
       "      <td>textual</td>\n",
       "      <td>textual_17</td>\n",
       "      <td>22</td>\n",
       "      <td>1501075190</td>\n",
       "      <td>2017-07-26 15:19:50.767</td>\n",
       "      <td>submitted</td>\n",
       "      <td>11</td>\n",
       "      <td>stacked bar chart</td>\n",
       "      <td>151</td>\n",
       "      <td>https://s3.eu-central-1.amazonaws.com/namethat...</td>\n",
       "    </tr>\n",
       "    <tr>\n",
       "      <th>12</th>\n",
       "      <td>textual</td>\n",
       "      <td>textual_20</td>\n",
       "      <td>22</td>\n",
       "      <td>1501075220</td>\n",
       "      <td>2017-07-26 15:20:20.193</td>\n",
       "      <td>submitted</td>\n",
       "      <td>12</td>\n",
       "      <td>flow chart</td>\n",
       "      <td>120</td>\n",
       "      <td>https://s3.eu-central-1.amazonaws.com/namethat...</td>\n",
       "    </tr>\n",
       "    <tr>\n",
       "      <th>13</th>\n",
       "      <td>textual</td>\n",
       "      <td>textual_21</td>\n",
       "      <td>22</td>\n",
       "      <td>1501075229</td>\n",
       "      <td>2017-07-26 15:20:29.725</td>\n",
       "      <td>submitted</td>\n",
       "      <td>8</td>\n",
       "      <td>tree diagram</td>\n",
       "      <td>238</td>\n",
       "      <td>https://s3.eu-central-1.amazonaws.com/namethat...</td>\n",
       "    </tr>\n",
       "    <tr>\n",
       "      <th>14</th>\n",
       "      <td>textual</td>\n",
       "      <td>textual_22</td>\n",
       "      <td>22</td>\n",
       "      <td>1501075234</td>\n",
       "      <td>2017-07-26 15:20:34.614</td>\n",
       "      <td>submitted</td>\n",
       "      <td>12</td>\n",
       "      <td>flow chart</td>\n",
       "      <td>54</td>\n",
       "      <td>https://s3.eu-central-1.amazonaws.com/namethat...</td>\n",
       "    </tr>\n",
       "    <tr>\n",
       "      <th>15</th>\n",
       "      <td>textual</td>\n",
       "      <td>textual_23</td>\n",
       "      <td>22</td>\n",
       "      <td>1501075238</td>\n",
       "      <td>2017-07-26 15:20:38.978</td>\n",
       "      <td>submitted</td>\n",
       "      <td>12</td>\n",
       "      <td>flow chart</td>\n",
       "      <td>268</td>\n",
       "      <td>https://s3.eu-central-1.amazonaws.com/namethat...</td>\n",
       "    </tr>\n",
       "    <tr>\n",
       "      <th>16</th>\n",
       "      <td>textual</td>\n",
       "      <td>textual_24</td>\n",
       "      <td>22</td>\n",
       "      <td>1501075262</td>\n",
       "      <td>2017-07-26 15:21:02.083</td>\n",
       "      <td>submitted</td>\n",
       "      <td>13</td>\n",
       "      <td>pareto chart</td>\n",
       "      <td>248</td>\n",
       "      <td>https://s3.eu-central-1.amazonaws.com/namethat...</td>\n",
       "    </tr>\n",
       "    <tr>\n",
       "      <th>17</th>\n",
       "      <td>textual</td>\n",
       "      <td>textual_25</td>\n",
       "      <td>22</td>\n",
       "      <td>1501075275</td>\n",
       "      <td>2017-07-26 15:21:15.019</td>\n",
       "      <td>submitted</td>\n",
       "      <td>14</td>\n",
       "      <td>bubble chart &amp; scatter plot</td>\n",
       "      <td>84</td>\n",
       "      <td>https://s3.eu-central-1.amazonaws.com/namethat...</td>\n",
       "    </tr>\n",
       "    <tr>\n",
       "      <th>18</th>\n",
       "      <td>textual</td>\n",
       "      <td>textual_26</td>\n",
       "      <td>22</td>\n",
       "      <td>1501075278</td>\n",
       "      <td>2017-07-26 15:21:18.656</td>\n",
       "      <td>submitted</td>\n",
       "      <td>12</td>\n",
       "      <td>flow chart</td>\n",
       "      <td>139</td>\n",
       "      <td>https://s3.eu-central-1.amazonaws.com/namethat...</td>\n",
       "    </tr>\n",
       "    <tr>\n",
       "      <th>19</th>\n",
       "      <td>textual</td>\n",
       "      <td>textual_27</td>\n",
       "      <td>22</td>\n",
       "      <td>1501075288</td>\n",
       "      <td>2017-07-26 15:21:28.768</td>\n",
       "      <td>submitted</td>\n",
       "      <td>7</td>\n",
       "      <td>bubble chart</td>\n",
       "      <td>229</td>\n",
       "      <td>https://s3.eu-central-1.amazonaws.com/namethat...</td>\n",
       "    </tr>\n",
       "    <tr>\n",
       "      <th>20</th>\n",
       "      <td>textual</td>\n",
       "      <td>textual_28</td>\n",
       "      <td>22</td>\n",
       "      <td>1501075295</td>\n",
       "      <td>2017-07-26 15:21:35.531</td>\n",
       "      <td>submitted</td>\n",
       "      <td>12</td>\n",
       "      <td>flow chart</td>\n",
       "      <td>257</td>\n",
       "      <td>https://s3.eu-central-1.amazonaws.com/namethat...</td>\n",
       "    </tr>\n",
       "    <tr>\n",
       "      <th>21</th>\n",
       "      <td>textual</td>\n",
       "      <td>textual_29</td>\n",
       "      <td>22</td>\n",
       "      <td>1501075309</td>\n",
       "      <td>2017-07-26 15:21:49.063</td>\n",
       "      <td>submitted</td>\n",
       "      <td>10</td>\n",
       "      <td>network diagram</td>\n",
       "      <td>237</td>\n",
       "      <td>https://s3.eu-central-1.amazonaws.com/namethat...</td>\n",
       "    </tr>\n",
       "    <tr>\n",
       "      <th>22</th>\n",
       "      <td>textual</td>\n",
       "      <td>textual_35</td>\n",
       "      <td>22</td>\n",
       "      <td>1501075309</td>\n",
       "      <td>2017-07-26 15:21:49.063</td>\n",
       "      <td>submitted</td>\n",
       "      <td>8</td>\n",
       "      <td>tree diagram</td>\n",
       "      <td>237</td>\n",
       "      <td>https://s3.eu-central-1.amazonaws.com/namethat...</td>\n",
       "    </tr>\n",
       "    <tr>\n",
       "      <th>23</th>\n",
       "      <td>textual</td>\n",
       "      <td>textual_36</td>\n",
       "      <td>22</td>\n",
       "      <td>1501075309</td>\n",
       "      <td>2017-07-26 15:21:49.063</td>\n",
       "      <td>submitted</td>\n",
       "      <td>12</td>\n",
       "      <td>flow chart</td>\n",
       "      <td>237</td>\n",
       "      <td>https://s3.eu-central-1.amazonaws.com/namethat...</td>\n",
       "    </tr>\n",
       "    <tr>\n",
       "      <th>24</th>\n",
       "      <td>textual</td>\n",
       "      <td>textual_37</td>\n",
       "      <td>22</td>\n",
       "      <td>1501075309</td>\n",
       "      <td>2017-07-26 15:21:49.063</td>\n",
       "      <td>submitted</td>\n",
       "      <td>13</td>\n",
       "      <td>pareto chart</td>\n",
       "      <td>237</td>\n",
       "      <td>https://s3.eu-central-1.amazonaws.com/namethat...</td>\n",
       "    </tr>\n",
       "    <tr>\n",
       "      <th>25</th>\n",
       "      <td>textual</td>\n",
       "      <td>textual_38</td>\n",
       "      <td>22</td>\n",
       "      <td>1501075309</td>\n",
       "      <td>2017-07-26 15:21:49.063</td>\n",
       "      <td>submitted</td>\n",
       "      <td>7</td>\n",
       "      <td>bubble chart</td>\n",
       "      <td>237</td>\n",
       "      <td>https://s3.eu-central-1.amazonaws.com/namethat...</td>\n",
       "    </tr>\n",
       "    <tr>\n",
       "      <th>26</th>\n",
       "      <td>textual</td>\n",
       "      <td>textual_40</td>\n",
       "      <td>22</td>\n",
       "      <td>1501075309</td>\n",
       "      <td>2017-07-26 15:21:49.063</td>\n",
       "      <td>submitted</td>\n",
       "      <td>14</td>\n",
       "      <td>bubble chart &amp; scatter plot</td>\n",
       "      <td>237</td>\n",
       "      <td>https://s3.eu-central-1.amazonaws.com/namethat...</td>\n",
       "    </tr>\n",
       "    <tr>\n",
       "      <th>27</th>\n",
       "      <td>textual</td>\n",
       "      <td>textual_41</td>\n",
       "      <td>22</td>\n",
       "      <td>1501075309</td>\n",
       "      <td>2017-07-26 15:21:49.063</td>\n",
       "      <td>submitted</td>\n",
       "      <td>13</td>\n",
       "      <td>pareto chart</td>\n",
       "      <td>237</td>\n",
       "      <td>https://s3.eu-central-1.amazonaws.com/namethat...</td>\n",
       "    </tr>\n",
       "    <tr>\n",
       "      <th>28</th>\n",
       "      <td>textual</td>\n",
       "      <td>textual_44</td>\n",
       "      <td>22</td>\n",
       "      <td>1501079007</td>\n",
       "      <td>2017-07-26 16:23:27.122</td>\n",
       "      <td>submitted</td>\n",
       "      <td>25</td>\n",
       "      <td>bar chart</td>\n",
       "      <td>131</td>\n",
       "      <td>https://s3.eu-central-1.amazonaws.com/namethat...</td>\n",
       "    </tr>\n",
       "    <tr>\n",
       "      <th>29</th>\n",
       "      <td>textual</td>\n",
       "      <td>textual_48</td>\n",
       "      <td>22</td>\n",
       "      <td>1501079034</td>\n",
       "      <td>2017-07-26 16:23:54.840</td>\n",
       "      <td>submitted</td>\n",
       "      <td>19</td>\n",
       "      <td>table</td>\n",
       "      <td>914</td>\n",
       "      <td>https://s3.eu-central-1.amazonaws.com/namethat...</td>\n",
       "    </tr>\n",
       "    <tr>\n",
       "      <th>...</th>\n",
       "      <td>...</td>\n",
       "      <td>...</td>\n",
       "      <td>...</td>\n",
       "      <td>...</td>\n",
       "      <td>...</td>\n",
       "      <td>...</td>\n",
       "      <td>...</td>\n",
       "      <td>...</td>\n",
       "      <td>...</td>\n",
       "      <td>...</td>\n",
       "    </tr>\n",
       "    <tr>\n",
       "      <th>6610</th>\n",
       "      <td>swipe</td>\n",
       "      <td>swipe_3030</td>\n",
       "      <td>22</td>\n",
       "      <td>1503392695</td>\n",
       "      <td>2017-08-22 11:04:55.409</td>\n",
       "      <td>visible</td>\n",
       "      <td>42</td>\n",
       "      <td>scatter plot</td>\n",
       "      <td>12420</td>\n",
       "      <td>https://s3.eu-central-1.amazonaws.com/namethat...</td>\n",
       "    </tr>\n",
       "    <tr>\n",
       "      <th>6611</th>\n",
       "      <td>swipe</td>\n",
       "      <td>swipe_3031</td>\n",
       "      <td>22</td>\n",
       "      <td>1503392702</td>\n",
       "      <td>2017-08-22 11:05:02.234</td>\n",
       "      <td>swipe</td>\n",
       "      <td>42</td>\n",
       "      <td>scatter plot</td>\n",
       "      <td>12420</td>\n",
       "      <td>https://s3.eu-central-1.amazonaws.com/namethat...</td>\n",
       "    </tr>\n",
       "    <tr>\n",
       "      <th>6612</th>\n",
       "      <td>swipe</td>\n",
       "      <td>swipe_3032</td>\n",
       "      <td>22</td>\n",
       "      <td>1503392702</td>\n",
       "      <td>2017-08-22 11:05:02.455</td>\n",
       "      <td>swipe</td>\n",
       "      <td>31</td>\n",
       "      <td>pie chart</td>\n",
       "      <td>226</td>\n",
       "      <td>https://s3.eu-central-1.amazonaws.com/namethat...</td>\n",
       "    </tr>\n",
       "    <tr>\n",
       "      <th>6613</th>\n",
       "      <td>swipe</td>\n",
       "      <td>swipe_3033</td>\n",
       "      <td>22</td>\n",
       "      <td>1503392702</td>\n",
       "      <td>2017-08-22 11:05:02.565</td>\n",
       "      <td>visible</td>\n",
       "      <td>31</td>\n",
       "      <td>pie chart</td>\n",
       "      <td>226</td>\n",
       "      <td>https://s3.eu-central-1.amazonaws.com/namethat...</td>\n",
       "    </tr>\n",
       "    <tr>\n",
       "      <th>6614</th>\n",
       "      <td>swipe</td>\n",
       "      <td>swipe_3034</td>\n",
       "      <td>22</td>\n",
       "      <td>1503392702</td>\n",
       "      <td>2017-08-22 11:05:02.882</td>\n",
       "      <td>swipe</td>\n",
       "      <td>31</td>\n",
       "      <td>pie chart</td>\n",
       "      <td>226</td>\n",
       "      <td>https://s3.eu-central-1.amazonaws.com/namethat...</td>\n",
       "    </tr>\n",
       "    <tr>\n",
       "      <th>6615</th>\n",
       "      <td>swipe</td>\n",
       "      <td>swipe_3035</td>\n",
       "      <td>22</td>\n",
       "      <td>1503392704</td>\n",
       "      <td>2017-08-22 11:05:04.576</td>\n",
       "      <td>visible</td>\n",
       "      <td>20</td>\n",
       "      <td>map</td>\n",
       "      <td>479</td>\n",
       "      <td>https://s3.eu-central-1.amazonaws.com/namethat...</td>\n",
       "    </tr>\n",
       "    <tr>\n",
       "      <th>6616</th>\n",
       "      <td>swipe</td>\n",
       "      <td>swipe_3036</td>\n",
       "      <td>22</td>\n",
       "      <td>1503392705</td>\n",
       "      <td>2017-08-22 11:05:05.794</td>\n",
       "      <td>visible</td>\n",
       "      <td>42</td>\n",
       "      <td>scatter plot</td>\n",
       "      <td>12420</td>\n",
       "      <td>https://s3.eu-central-1.amazonaws.com/namethat...</td>\n",
       "    </tr>\n",
       "    <tr>\n",
       "      <th>6617</th>\n",
       "      <td>swipe</td>\n",
       "      <td>swipe_3037</td>\n",
       "      <td>22</td>\n",
       "      <td>1503392713</td>\n",
       "      <td>2017-08-22 11:05:13.325</td>\n",
       "      <td>swipe</td>\n",
       "      <td>42</td>\n",
       "      <td>scatter plot</td>\n",
       "      <td>12420</td>\n",
       "      <td>https://s3.eu-central-1.amazonaws.com/namethat...</td>\n",
       "    </tr>\n",
       "    <tr>\n",
       "      <th>6618</th>\n",
       "      <td>swipe</td>\n",
       "      <td>swipe_3038</td>\n",
       "      <td>22</td>\n",
       "      <td>1503392713</td>\n",
       "      <td>2017-08-22 11:05:13.440</td>\n",
       "      <td>visible</td>\n",
       "      <td>12</td>\n",
       "      <td>flow chart</td>\n",
       "      <td>105</td>\n",
       "      <td>https://s3.eu-central-1.amazonaws.com/namethat...</td>\n",
       "    </tr>\n",
       "    <tr>\n",
       "      <th>6619</th>\n",
       "      <td>swipe</td>\n",
       "      <td>swipe_3039</td>\n",
       "      <td>22</td>\n",
       "      <td>1503392744</td>\n",
       "      <td>2017-08-22 11:05:44.501</td>\n",
       "      <td>visible</td>\n",
       "      <td>31</td>\n",
       "      <td>pie chart</td>\n",
       "      <td>792</td>\n",
       "      <td>https://s3.eu-central-1.amazonaws.com/namethat...</td>\n",
       "    </tr>\n",
       "    <tr>\n",
       "      <th>6620</th>\n",
       "      <td>swipe</td>\n",
       "      <td>swipe_3040</td>\n",
       "      <td>22</td>\n",
       "      <td>1503392751</td>\n",
       "      <td>2017-08-22 11:05:51.253</td>\n",
       "      <td>swipe</td>\n",
       "      <td>31</td>\n",
       "      <td>pie chart</td>\n",
       "      <td>792</td>\n",
       "      <td>https://s3.eu-central-1.amazonaws.com/namethat...</td>\n",
       "    </tr>\n",
       "    <tr>\n",
       "      <th>6621</th>\n",
       "      <td>swipe</td>\n",
       "      <td>swipe_3041</td>\n",
       "      <td>22</td>\n",
       "      <td>1503392751</td>\n",
       "      <td>2017-08-22 11:05:51.367</td>\n",
       "      <td>visible</td>\n",
       "      <td>45</td>\n",
       "      <td>multiple line chart</td>\n",
       "      <td>10771</td>\n",
       "      <td>https://s3.eu-central-1.amazonaws.com/namethat...</td>\n",
       "    </tr>\n",
       "    <tr>\n",
       "      <th>6622</th>\n",
       "      <td>swipe</td>\n",
       "      <td>swipe_3042</td>\n",
       "      <td>22</td>\n",
       "      <td>1503392754</td>\n",
       "      <td>2017-08-22 11:05:54.486</td>\n",
       "      <td>swipe</td>\n",
       "      <td>45</td>\n",
       "      <td>multiple line chart</td>\n",
       "      <td>10771</td>\n",
       "      <td>https://s3.eu-central-1.amazonaws.com/namethat...</td>\n",
       "    </tr>\n",
       "    <tr>\n",
       "      <th>6623</th>\n",
       "      <td>swipe</td>\n",
       "      <td>swipe_3043</td>\n",
       "      <td>22</td>\n",
       "      <td>1503392754</td>\n",
       "      <td>2017-08-22 11:05:54.598</td>\n",
       "      <td>visible</td>\n",
       "      <td>25</td>\n",
       "      <td>bar chart</td>\n",
       "      <td>11808</td>\n",
       "      <td>https://s3.eu-central-1.amazonaws.com/namethat...</td>\n",
       "    </tr>\n",
       "    <tr>\n",
       "      <th>6624</th>\n",
       "      <td>swipe</td>\n",
       "      <td>swipe_3044</td>\n",
       "      <td>22</td>\n",
       "      <td>1503392755</td>\n",
       "      <td>2017-08-22 11:05:55.670</td>\n",
       "      <td>swipe</td>\n",
       "      <td>25</td>\n",
       "      <td>bar chart</td>\n",
       "      <td>11808</td>\n",
       "      <td>https://s3.eu-central-1.amazonaws.com/namethat...</td>\n",
       "    </tr>\n",
       "    <tr>\n",
       "      <th>6625</th>\n",
       "      <td>swipe</td>\n",
       "      <td>swipe_3045</td>\n",
       "      <td>22</td>\n",
       "      <td>1503392755</td>\n",
       "      <td>2017-08-22 11:05:55.776</td>\n",
       "      <td>visible</td>\n",
       "      <td>12</td>\n",
       "      <td>flow chart</td>\n",
       "      <td>303</td>\n",
       "      <td>https://s3.eu-central-1.amazonaws.com/namethat...</td>\n",
       "    </tr>\n",
       "    <tr>\n",
       "      <th>6626</th>\n",
       "      <td>swipe</td>\n",
       "      <td>swipe_3046</td>\n",
       "      <td>22</td>\n",
       "      <td>1503392757</td>\n",
       "      <td>2017-08-22 11:05:57.404</td>\n",
       "      <td>swipe</td>\n",
       "      <td>12</td>\n",
       "      <td>flow chart</td>\n",
       "      <td>303</td>\n",
       "      <td>https://s3.eu-central-1.amazonaws.com/namethat...</td>\n",
       "    </tr>\n",
       "    <tr>\n",
       "      <th>6627</th>\n",
       "      <td>swipe</td>\n",
       "      <td>swipe_3047</td>\n",
       "      <td>22</td>\n",
       "      <td>1503392757</td>\n",
       "      <td>2017-08-22 11:05:57.515</td>\n",
       "      <td>visible</td>\n",
       "      <td>45</td>\n",
       "      <td>multiple line chart</td>\n",
       "      <td>806</td>\n",
       "      <td>https://s3.eu-central-1.amazonaws.com/namethat...</td>\n",
       "    </tr>\n",
       "    <tr>\n",
       "      <th>6628</th>\n",
       "      <td>swipe</td>\n",
       "      <td>swipe_3048</td>\n",
       "      <td>22</td>\n",
       "      <td>1503392758</td>\n",
       "      <td>2017-08-22 11:05:58.349</td>\n",
       "      <td>swipe</td>\n",
       "      <td>45</td>\n",
       "      <td>multiple line chart</td>\n",
       "      <td>806</td>\n",
       "      <td>https://s3.eu-central-1.amazonaws.com/namethat...</td>\n",
       "    </tr>\n",
       "    <tr>\n",
       "      <th>6629</th>\n",
       "      <td>swipe</td>\n",
       "      <td>swipe_3049</td>\n",
       "      <td>22</td>\n",
       "      <td>1503392760</td>\n",
       "      <td>2017-08-22 11:06:00.429</td>\n",
       "      <td>visible</td>\n",
       "      <td>20</td>\n",
       "      <td>map</td>\n",
       "      <td>10754</td>\n",
       "      <td>https://s3.eu-central-1.amazonaws.com/namethat...</td>\n",
       "    </tr>\n",
       "    <tr>\n",
       "      <th>6630</th>\n",
       "      <td>swipe</td>\n",
       "      <td>swipe_3050</td>\n",
       "      <td>22</td>\n",
       "      <td>1503392763</td>\n",
       "      <td>2017-08-22 11:06:03.329</td>\n",
       "      <td>swipe</td>\n",
       "      <td>20</td>\n",
       "      <td>map</td>\n",
       "      <td>10754</td>\n",
       "      <td>https://s3.eu-central-1.amazonaws.com/namethat...</td>\n",
       "    </tr>\n",
       "    <tr>\n",
       "      <th>6631</th>\n",
       "      <td>swipe</td>\n",
       "      <td>swipe_3051</td>\n",
       "      <td>22</td>\n",
       "      <td>1503392763</td>\n",
       "      <td>2017-08-22 11:06:03.451</td>\n",
       "      <td>visible</td>\n",
       "      <td>20</td>\n",
       "      <td>map</td>\n",
       "      <td>10533</td>\n",
       "      <td>https://s3.eu-central-1.amazonaws.com/namethat...</td>\n",
       "    </tr>\n",
       "    <tr>\n",
       "      <th>6632</th>\n",
       "      <td>swipe</td>\n",
       "      <td>swipe_3052</td>\n",
       "      <td>22</td>\n",
       "      <td>1503392765</td>\n",
       "      <td>2017-08-22 11:06:05.927</td>\n",
       "      <td>swipe</td>\n",
       "      <td>33</td>\n",
       "      <td>line chart</td>\n",
       "      <td>13506</td>\n",
       "      <td>https://s3.eu-central-1.amazonaws.com/namethat...</td>\n",
       "    </tr>\n",
       "    <tr>\n",
       "      <th>6633</th>\n",
       "      <td>swipe</td>\n",
       "      <td>swipe_3053</td>\n",
       "      <td>22</td>\n",
       "      <td>1503392766</td>\n",
       "      <td>2017-08-22 11:06:06.038</td>\n",
       "      <td>visible</td>\n",
       "      <td>33</td>\n",
       "      <td>line chart</td>\n",
       "      <td>13506</td>\n",
       "      <td>https://s3.eu-central-1.amazonaws.com/namethat...</td>\n",
       "    </tr>\n",
       "    <tr>\n",
       "      <th>6634</th>\n",
       "      <td>swipe</td>\n",
       "      <td>swipe_3054</td>\n",
       "      <td>22</td>\n",
       "      <td>1503392767</td>\n",
       "      <td>2017-08-22 11:06:07.743</td>\n",
       "      <td>swipe</td>\n",
       "      <td>33</td>\n",
       "      <td>line chart</td>\n",
       "      <td>13506</td>\n",
       "      <td>https://s3.eu-central-1.amazonaws.com/namethat...</td>\n",
       "    </tr>\n",
       "    <tr>\n",
       "      <th>6635</th>\n",
       "      <td>swipe</td>\n",
       "      <td>swipe_3055</td>\n",
       "      <td>22</td>\n",
       "      <td>1503392767</td>\n",
       "      <td>2017-08-22 11:06:07.856</td>\n",
       "      <td>visible</td>\n",
       "      <td>12</td>\n",
       "      <td>flow chart</td>\n",
       "      <td>132</td>\n",
       "      <td>https://s3.eu-central-1.amazonaws.com/namethat...</td>\n",
       "    </tr>\n",
       "    <tr>\n",
       "      <th>6636</th>\n",
       "      <td>swipe</td>\n",
       "      <td>swipe_3056</td>\n",
       "      <td>22</td>\n",
       "      <td>1503392773</td>\n",
       "      <td>2017-08-22 11:06:13.170</td>\n",
       "      <td>swipe</td>\n",
       "      <td>12</td>\n",
       "      <td>flow chart</td>\n",
       "      <td>132</td>\n",
       "      <td>https://s3.eu-central-1.amazonaws.com/namethat...</td>\n",
       "    </tr>\n",
       "    <tr>\n",
       "      <th>6637</th>\n",
       "      <td>swipe</td>\n",
       "      <td>swipe_3057</td>\n",
       "      <td>22</td>\n",
       "      <td>1503392773</td>\n",
       "      <td>2017-08-22 11:06:13.275</td>\n",
       "      <td>visible</td>\n",
       "      <td>7</td>\n",
       "      <td>bubble chart</td>\n",
       "      <td>229</td>\n",
       "      <td>https://s3.eu-central-1.amazonaws.com/namethat...</td>\n",
       "    </tr>\n",
       "    <tr>\n",
       "      <th>6638</th>\n",
       "      <td>swipe</td>\n",
       "      <td>swipe_3058</td>\n",
       "      <td>22</td>\n",
       "      <td>1503392774</td>\n",
       "      <td>2017-08-22 11:06:14.872</td>\n",
       "      <td>swipe</td>\n",
       "      <td>7</td>\n",
       "      <td>bubble chart</td>\n",
       "      <td>229</td>\n",
       "      <td>https://s3.eu-central-1.amazonaws.com/namethat...</td>\n",
       "    </tr>\n",
       "    <tr>\n",
       "      <th>6639</th>\n",
       "      <td>swipe</td>\n",
       "      <td>swipe_3059</td>\n",
       "      <td>22</td>\n",
       "      <td>1503392776</td>\n",
       "      <td>2017-08-22 11:06:16.932</td>\n",
       "      <td>visible</td>\n",
       "      <td>7</td>\n",
       "      <td>bubble chart</td>\n",
       "      <td>249</td>\n",
       "      <td>https://s3.eu-central-1.amazonaws.com/namethat...</td>\n",
       "    </tr>\n",
       "  </tbody>\n",
       "</table>\n",
       "<p>6640 rows × 10 columns</p>\n",
       "</div>"
      ],
      "text/plain": [
       "         task     task_id  iduser   timestamp                     date  \\\n",
       "0     textual   textual_3      22  1501074459  2017-07-26 15:07:39.289   \n",
       "1     textual   textual_7      22  1501075088  2017-07-26 15:18:08.598   \n",
       "2     textual   textual_8      22  1501075105  2017-07-26 15:18:25.580   \n",
       "3     textual   textual_9      22  1501075113  2017-07-26 15:18:33.395   \n",
       "4     textual  textual_10      22  1501075119  2017-07-26 15:18:39.158   \n",
       "5     textual  textual_11      22  1501075131  2017-07-26 15:18:51.656   \n",
       "6     textual  textual_12      22  1501075143  2017-07-26 15:19:03.262   \n",
       "7     textual  textual_13      22  1501075155  2017-07-26 15:19:15.433   \n",
       "8     textual  textual_14      22  1501075162  2017-07-26 15:19:22.597   \n",
       "9     textual  textual_15      22  1501075170  2017-07-26 15:19:30.230   \n",
       "10    textual  textual_16      22  1501075176  2017-07-26 15:19:36.075   \n",
       "11    textual  textual_17      22  1501075190  2017-07-26 15:19:50.767   \n",
       "12    textual  textual_20      22  1501075220  2017-07-26 15:20:20.193   \n",
       "13    textual  textual_21      22  1501075229  2017-07-26 15:20:29.725   \n",
       "14    textual  textual_22      22  1501075234  2017-07-26 15:20:34.614   \n",
       "15    textual  textual_23      22  1501075238  2017-07-26 15:20:38.978   \n",
       "16    textual  textual_24      22  1501075262  2017-07-26 15:21:02.083   \n",
       "17    textual  textual_25      22  1501075275  2017-07-26 15:21:15.019   \n",
       "18    textual  textual_26      22  1501075278  2017-07-26 15:21:18.656   \n",
       "19    textual  textual_27      22  1501075288  2017-07-26 15:21:28.768   \n",
       "20    textual  textual_28      22  1501075295  2017-07-26 15:21:35.531   \n",
       "21    textual  textual_29      22  1501075309  2017-07-26 15:21:49.063   \n",
       "22    textual  textual_35      22  1501075309  2017-07-26 15:21:49.063   \n",
       "23    textual  textual_36      22  1501075309  2017-07-26 15:21:49.063   \n",
       "24    textual  textual_37      22  1501075309  2017-07-26 15:21:49.063   \n",
       "25    textual  textual_38      22  1501075309  2017-07-26 15:21:49.063   \n",
       "26    textual  textual_40      22  1501075309  2017-07-26 15:21:49.063   \n",
       "27    textual  textual_41      22  1501075309  2017-07-26 15:21:49.063   \n",
       "28    textual  textual_44      22  1501079007  2017-07-26 16:23:27.122   \n",
       "29    textual  textual_48      22  1501079034  2017-07-26 16:23:54.840   \n",
       "...       ...         ...     ...         ...                      ...   \n",
       "6610    swipe  swipe_3030      22  1503392695  2017-08-22 11:04:55.409   \n",
       "6611    swipe  swipe_3031      22  1503392702  2017-08-22 11:05:02.234   \n",
       "6612    swipe  swipe_3032      22  1503392702  2017-08-22 11:05:02.455   \n",
       "6613    swipe  swipe_3033      22  1503392702  2017-08-22 11:05:02.565   \n",
       "6614    swipe  swipe_3034      22  1503392702  2017-08-22 11:05:02.882   \n",
       "6615    swipe  swipe_3035      22  1503392704  2017-08-22 11:05:04.576   \n",
       "6616    swipe  swipe_3036      22  1503392705  2017-08-22 11:05:05.794   \n",
       "6617    swipe  swipe_3037      22  1503392713  2017-08-22 11:05:13.325   \n",
       "6618    swipe  swipe_3038      22  1503392713  2017-08-22 11:05:13.440   \n",
       "6619    swipe  swipe_3039      22  1503392744  2017-08-22 11:05:44.501   \n",
       "6620    swipe  swipe_3040      22  1503392751  2017-08-22 11:05:51.253   \n",
       "6621    swipe  swipe_3041      22  1503392751  2017-08-22 11:05:51.367   \n",
       "6622    swipe  swipe_3042      22  1503392754  2017-08-22 11:05:54.486   \n",
       "6623    swipe  swipe_3043      22  1503392754  2017-08-22 11:05:54.598   \n",
       "6624    swipe  swipe_3044      22  1503392755  2017-08-22 11:05:55.670   \n",
       "6625    swipe  swipe_3045      22  1503392755  2017-08-22 11:05:55.776   \n",
       "6626    swipe  swipe_3046      22  1503392757  2017-08-22 11:05:57.404   \n",
       "6627    swipe  swipe_3047      22  1503392757  2017-08-22 11:05:57.515   \n",
       "6628    swipe  swipe_3048      22  1503392758  2017-08-22 11:05:58.349   \n",
       "6629    swipe  swipe_3049      22  1503392760  2017-08-22 11:06:00.429   \n",
       "6630    swipe  swipe_3050      22  1503392763  2017-08-22 11:06:03.329   \n",
       "6631    swipe  swipe_3051      22  1503392763  2017-08-22 11:06:03.451   \n",
       "6632    swipe  swipe_3052      22  1503392765  2017-08-22 11:06:05.927   \n",
       "6633    swipe  swipe_3053      22  1503392766  2017-08-22 11:06:06.038   \n",
       "6634    swipe  swipe_3054      22  1503392767  2017-08-22 11:06:07.743   \n",
       "6635    swipe  swipe_3055      22  1503392767  2017-08-22 11:06:07.856   \n",
       "6636    swipe  swipe_3056      22  1503392773  2017-08-22 11:06:13.170   \n",
       "6637    swipe  swipe_3057      22  1503392773  2017-08-22 11:06:13.275   \n",
       "6638    swipe  swipe_3058      22  1503392774  2017-08-22 11:06:14.872   \n",
       "6639    swipe  swipe_3059      22  1503392776  2017-08-22 11:06:16.932   \n",
       "\n",
       "          event  idtype                        label  idimg  \\\n",
       "0     submitted       7                 bubble chart    143   \n",
       "1     submitted       8                 tree diagram    238   \n",
       "2     submitted       9            candlestick chart      7   \n",
       "3     submitted       8                 tree diagram     81   \n",
       "4     submitted       8                 tree diagram    217   \n",
       "5     submitted       9            candlestick chart    222   \n",
       "6     submitted       7                 bubble chart    146   \n",
       "7     submitted       7                 bubble chart     48   \n",
       "8     submitted      10              network diagram    191   \n",
       "9     submitted       8                 tree diagram     78   \n",
       "10    submitted       7                 bubble chart     49   \n",
       "11    submitted      11            stacked bar chart    151   \n",
       "12    submitted      12                   flow chart    120   \n",
       "13    submitted       8                 tree diagram    238   \n",
       "14    submitted      12                   flow chart     54   \n",
       "15    submitted      12                   flow chart    268   \n",
       "16    submitted      13                 pareto chart    248   \n",
       "17    submitted      14  bubble chart & scatter plot     84   \n",
       "18    submitted      12                   flow chart    139   \n",
       "19    submitted       7                 bubble chart    229   \n",
       "20    submitted      12                   flow chart    257   \n",
       "21    submitted      10              network diagram    237   \n",
       "22    submitted       8                 tree diagram    237   \n",
       "23    submitted      12                   flow chart    237   \n",
       "24    submitted      13                 pareto chart    237   \n",
       "25    submitted       7                 bubble chart    237   \n",
       "26    submitted      14  bubble chart & scatter plot    237   \n",
       "27    submitted      13                 pareto chart    237   \n",
       "28    submitted      25                    bar chart    131   \n",
       "29    submitted      19                        table    914   \n",
       "...         ...     ...                          ...    ...   \n",
       "6610    visible      42                 scatter plot  12420   \n",
       "6611      swipe      42                 scatter plot  12420   \n",
       "6612      swipe      31                    pie chart    226   \n",
       "6613    visible      31                    pie chart    226   \n",
       "6614      swipe      31                    pie chart    226   \n",
       "6615    visible      20                          map    479   \n",
       "6616    visible      42                 scatter plot  12420   \n",
       "6617      swipe      42                 scatter plot  12420   \n",
       "6618    visible      12                   flow chart    105   \n",
       "6619    visible      31                    pie chart    792   \n",
       "6620      swipe      31                    pie chart    792   \n",
       "6621    visible      45          multiple line chart  10771   \n",
       "6622      swipe      45          multiple line chart  10771   \n",
       "6623    visible      25                    bar chart  11808   \n",
       "6624      swipe      25                    bar chart  11808   \n",
       "6625    visible      12                   flow chart    303   \n",
       "6626      swipe      12                   flow chart    303   \n",
       "6627    visible      45          multiple line chart    806   \n",
       "6628      swipe      45          multiple line chart    806   \n",
       "6629    visible      20                          map  10754   \n",
       "6630      swipe      20                          map  10754   \n",
       "6631    visible      20                          map  10533   \n",
       "6632      swipe      33                   line chart  13506   \n",
       "6633    visible      33                   line chart  13506   \n",
       "6634      swipe      33                   line chart  13506   \n",
       "6635    visible      12                   flow chart    132   \n",
       "6636      swipe      12                   flow chart    132   \n",
       "6637    visible       7                 bubble chart    229   \n",
       "6638      swipe       7                 bubble chart    229   \n",
       "6639    visible       7                 bubble chart    249   \n",
       "\n",
       "                                              imagepath  \n",
       "0     https://s3.eu-central-1.amazonaws.com/namethat...  \n",
       "1     https://s3.eu-central-1.amazonaws.com/namethat...  \n",
       "2     https://s3.eu-central-1.amazonaws.com/namethat...  \n",
       "3     https://s3.eu-central-1.amazonaws.com/namethat...  \n",
       "4     https://s3.eu-central-1.amazonaws.com/namethat...  \n",
       "5     https://s3.eu-central-1.amazonaws.com/namethat...  \n",
       "6     https://s3.eu-central-1.amazonaws.com/namethat...  \n",
       "7     https://s3.eu-central-1.amazonaws.com/namethat...  \n",
       "8     https://s3.eu-central-1.amazonaws.com/namethat...  \n",
       "9     https://s3.eu-central-1.amazonaws.com/namethat...  \n",
       "10    https://s3.eu-central-1.amazonaws.com/namethat...  \n",
       "11    https://s3.eu-central-1.amazonaws.com/namethat...  \n",
       "12    https://s3.eu-central-1.amazonaws.com/namethat...  \n",
       "13    https://s3.eu-central-1.amazonaws.com/namethat...  \n",
       "14    https://s3.eu-central-1.amazonaws.com/namethat...  \n",
       "15    https://s3.eu-central-1.amazonaws.com/namethat...  \n",
       "16    https://s3.eu-central-1.amazonaws.com/namethat...  \n",
       "17    https://s3.eu-central-1.amazonaws.com/namethat...  \n",
       "18    https://s3.eu-central-1.amazonaws.com/namethat...  \n",
       "19    https://s3.eu-central-1.amazonaws.com/namethat...  \n",
       "20    https://s3.eu-central-1.amazonaws.com/namethat...  \n",
       "21    https://s3.eu-central-1.amazonaws.com/namethat...  \n",
       "22    https://s3.eu-central-1.amazonaws.com/namethat...  \n",
       "23    https://s3.eu-central-1.amazonaws.com/namethat...  \n",
       "24    https://s3.eu-central-1.amazonaws.com/namethat...  \n",
       "25    https://s3.eu-central-1.amazonaws.com/namethat...  \n",
       "26    https://s3.eu-central-1.amazonaws.com/namethat...  \n",
       "27    https://s3.eu-central-1.amazonaws.com/namethat...  \n",
       "28    https://s3.eu-central-1.amazonaws.com/namethat...  \n",
       "29    https://s3.eu-central-1.amazonaws.com/namethat...  \n",
       "...                                                 ...  \n",
       "6610  https://s3.eu-central-1.amazonaws.com/namethat...  \n",
       "6611  https://s3.eu-central-1.amazonaws.com/namethat...  \n",
       "6612  https://s3.eu-central-1.amazonaws.com/namethat...  \n",
       "6613  https://s3.eu-central-1.amazonaws.com/namethat...  \n",
       "6614  https://s3.eu-central-1.amazonaws.com/namethat...  \n",
       "6615  https://s3.eu-central-1.amazonaws.com/namethat...  \n",
       "6616  https://s3.eu-central-1.amazonaws.com/namethat...  \n",
       "6617  https://s3.eu-central-1.amazonaws.com/namethat...  \n",
       "6618  https://s3.eu-central-1.amazonaws.com/namethat...  \n",
       "6619  https://s3.eu-central-1.amazonaws.com/namethat...  \n",
       "6620  https://s3.eu-central-1.amazonaws.com/namethat...  \n",
       "6621  https://s3.eu-central-1.amazonaws.com/namethat...  \n",
       "6622  https://s3.eu-central-1.amazonaws.com/namethat...  \n",
       "6623  https://s3.eu-central-1.amazonaws.com/namethat...  \n",
       "6624  https://s3.eu-central-1.amazonaws.com/namethat...  \n",
       "6625  https://s3.eu-central-1.amazonaws.com/namethat...  \n",
       "6626  https://s3.eu-central-1.amazonaws.com/namethat...  \n",
       "6627  https://s3.eu-central-1.amazonaws.com/namethat...  \n",
       "6628  https://s3.eu-central-1.amazonaws.com/namethat...  \n",
       "6629  https://s3.eu-central-1.amazonaws.com/namethat...  \n",
       "6630  https://s3.eu-central-1.amazonaws.com/namethat...  \n",
       "6631  https://s3.eu-central-1.amazonaws.com/namethat...  \n",
       "6632  https://s3.eu-central-1.amazonaws.com/namethat...  \n",
       "6633  https://s3.eu-central-1.amazonaws.com/namethat...  \n",
       "6634  https://s3.eu-central-1.amazonaws.com/namethat...  \n",
       "6635  https://s3.eu-central-1.amazonaws.com/namethat...  \n",
       "6636  https://s3.eu-central-1.amazonaws.com/namethat...  \n",
       "6637  https://s3.eu-central-1.amazonaws.com/namethat...  \n",
       "6638  https://s3.eu-central-1.amazonaws.com/namethat...  \n",
       "6639  https://s3.eu-central-1.amazonaws.com/namethat...  \n",
       "\n",
       "[6640 rows x 10 columns]"
      ]
     },
     "execution_count": 68,
     "metadata": {},
     "output_type": "execute_result"
    }
   ],
   "source": [
    "df"
   ]
  },
  {
   "cell_type": "code",
   "execution_count": 69,
   "metadata": {},
   "outputs": [
    {
     "name": "stdout",
     "output_type": "stream",
     "text": [
      "Total number of log entries that we recorded: 6640\n"
     ]
    }
   ],
   "source": [
    "stats[\"nbTotalLogsEntries\"] = len(df)\n",
    "print(\"Total number of log entries that we recorded: %s\" % stats[\"nbTotalLogsEntries\"])"
   ]
  },
  {
   "cell_type": "code",
   "execution_count": 70,
   "metadata": {},
   "outputs": [
    {
     "data": {
      "text/plain": [
       "Index(['task', 'task_id', 'iduser', 'timestamp', 'date', 'event', 'idtype',\n",
       "       'label', 'idimg', 'imagepath'],\n",
       "      dtype='object')"
      ]
     },
     "execution_count": 70,
     "metadata": {},
     "output_type": "execute_result"
    }
   ],
   "source": [
    "# Log entries attributes\n",
    "df.columns"
   ]
  },
  {
   "cell_type": "code",
   "execution_count": 71,
   "metadata": {},
   "outputs": [
    {
     "data": {
      "text/plain": [
       "visible        3624\n",
       "swipe          1229\n",
       "page loaded    1099\n",
       "skip            293\n",
       "chosen          202\n",
       "submitted       193\n",
       "Name: event, dtype: int64"
      ]
     },
     "execution_count": 71,
     "metadata": {},
     "output_type": "execute_result"
    }
   ],
   "source": [
    "# Distribution by log entry user events\n",
    "df['event'].value_counts()[:10]"
   ]
  },
  {
   "cell_type": "code",
   "execution_count": 75,
   "metadata": {},
   "outputs": [
    {
     "data": {
      "image/png": "[encoded data removed]",
      "text/plain": [
       "<matplotlib.figure.Figure at 0x116924cf8>"
      ]
     },
     "metadata": {},
     "output_type": "display_data"
    }
   ],
   "source": [
    "# TODO: chart that shows the events distribution\n",
    "sns.set(context=\"paper\", font=\"monospace\")\n",
    "sns_plot = sns.countplot(x='event', data=df, order=df.event.value_counts().index)\n",
    "plt.xticks(rotation=-45)\n",
    "show()\n",
    "fig = sns_plot.get_figure()\n",
    "fig.savefig(\"/Users/rvuillemot/Dropbox/paper-2017-crowdvis/figures/event-distribution.png\")"
   ]
  },
  {
   "cell_type": "code",
   "execution_count": 76,
   "metadata": {},
   "outputs": [
    {
     "data": {
      "text/plain": [
       "selection    3151\n",
       "swipe        3059\n",
       "reverse       237\n",
       "textual       193\n",
       "Name: task, dtype: int64"
      ]
     },
     "execution_count": 76,
     "metadata": {},
     "output_type": "execute_result"
    }
   ],
   "source": [
    "df['task'].value_counts()[:10]"
   ]
  },
  {
   "cell_type": "code",
   "execution_count": 77,
   "metadata": {},
   "outputs": [
    {
     "data": {
      "text/plain": [
       "bubble chart    1087\n",
       "map              860\n",
       "flow chart       797\n",
       "bar chart        766\n",
       "pie chart        658\n",
       "tree diagram     644\n",
       "table            641\n",
       "scatter plot     511\n",
       "area chart       303\n",
       "line chart       168\n",
       "Name: label, dtype: int64"
      ]
     },
     "execution_count": 77,
     "metadata": {},
     "output_type": "execute_result"
    }
   ],
   "source": [
    "df['label'].value_counts()[:10]"
   ]
  },
  {
   "cell_type": "code",
   "execution_count": null,
   "metadata": {
    "collapsed": true
   },
   "outputs": [],
   "source": []
  },
  {
   "cell_type": "code",
   "execution_count": 86,
   "metadata": {},
   "outputs": [
    {
     "data": {
      "image/png": "[encoded data removed]",
      "text/plain": [
       "<matplotlib.figure.Figure at 0x1181c0d30>"
      ]
     },
     "metadata": {},
     "output_type": "display_data"
    }
   ],
   "source": [
    "# Distribution by ImageID\n",
    "# sns.distplot(df['event'])\n",
    "sns.set(context=\"paper\", font=\"monospace\")\n",
    "sns_plot = sns.countplot(x='label', data=df, order=df.label.value_counts().index)\n",
    "plt.xticks(rotation=-45)\n",
    "show()\n",
    "fig = sns_plot.get_figure()\n",
    "# fig.set_size_inches(11.7, 8.27)\n",
    "fig.savefig(\"/Users/rvuillemot/Dropbox/paper-2017-crowdvis/figures/categories-distribution.png\")"
   ]
  },
  {
   "cell_type": "code",
   "execution_count": 13,
   "metadata": {
    "collapsed": true
   },
   "outputs": [],
   "source": [
    "# TODO\n",
    "# filter chart by top-10 categories\n",
    "# change dimensions\n",
    "# higher resolution\n",
    "# show divergence http://seaborn.pydata.org/generated/seaborn.barplot.html"
   ]
  },
  {
   "cell_type": "markdown",
   "metadata": {},
   "source": [
    "### Raw Users Analysis"
   ]
  },
  {
   "cell_type": "code",
   "execution_count": 79,
   "metadata": {},
   "outputs": [
    {
     "data": {
      "text/plain": [
       "22    6441\n",
       "32      39\n",
       "26      27\n",
       "33      23\n",
       "41      17\n",
       "24      15\n",
       "23      15\n",
       "28      10\n",
       "42       9\n",
       "25       8\n",
       "Name: iduser, dtype: int64"
      ]
     },
     "execution_count": 79,
     "metadata": {},
     "output_type": "execute_result"
    }
   ],
   "source": [
    "df['iduser'].value_counts()[:10]"
   ]
  },
  {
   "cell_type": "code",
   "execution_count": 58,
   "metadata": {},
   "outputs": [
    {
     "name": "stdout",
     "output_type": "stream",
     "text": [
      "Number of unique visitors: 20\n",
      "Double checking of unique visitors: 20\n"
     ]
    }
   ],
   "source": [
    "stats[\"nbUniqueUsersRaw\"] = len(df['iduser'].value_counts())\n",
    "print(\"Number of unique visitors: %s\" % stats[\"nbUniqueUsersRaw\"])\n",
    "print(\"Double checking of unique visitors: %s\" % len(df['iduser'].unique()))"
   ]
  },
  {
   "cell_type": "code",
   "execution_count": 15,
   "metadata": {},
   "outputs": [
    {
     "data": {
      "image/png": "[encoded data removed]",
      "text/plain": [
       "<matplotlib.figure.Figure at 0x1167cee10>"
      ]
     },
     "metadata": {},
     "output_type": "display_data"
    }
   ],
   "source": [
    "# Distribution by userid\n",
    "sns.set(context=\"paper\", font=\"monospace\")\n",
    "sns_plot = sns.countplot(x='iduser', data=df, order=df.iduser.value_counts().index)\n",
    "plt.xticks(rotation=-45)\n",
    "show()\n",
    "fig = sns_plot.get_figure()\n",
    "fig.savefig(\"/Users/rvuillemot/Dropbox/paper-2017-crowdvis/figures/users-distribution.png\")"
   ]
  },
  {
   "cell_type": "markdown",
   "metadata": {},
   "source": [
    "### Clean Users Analysis"
   ]
  },
  {
   "cell_type": "code",
   "execution_count": null,
   "metadata": {
    "collapsed": true
   },
   "outputs": [],
   "source": [
    "# Discard users that do not provide enough results\n",
    "df_users_clean = "
   ]
  },
  {
   "cell_type": "code",
   "execution_count": null,
   "metadata": {
    "collapsed": true
   },
   "outputs": [],
   "source": []
  },
  {
   "cell_type": "markdown",
   "metadata": {},
   "source": [
    "## Image Collection Analysis\n",
    "\n",
    "TODO\n",
    "\n",
    "* [X] Load all the images\n",
    "* [ ] Images by categories (if known) e.g. web, dataset, from extension, etc.\n",
    "* [ ] \n"
   ]
  },
  {
   "cell_type": "code",
   "execution_count": 16,
   "metadata": {},
   "outputs": [],
   "source": [
    "df_images = pd.read_json('data/images-26-08-2017.json') #  index_col=[0]"
   ]
  },
  {
   "cell_type": "code",
   "execution_count": 59,
   "metadata": {},
   "outputs": [
    {
     "data": {
      "text/html": [
       "<div>\n",
       "<table border=\"1\" class=\"dataframe\">\n",
       "  <thead>\n",
       "    <tr style=\"text-align: right;\">\n",
       "      <th></th>\n",
       "      <th>Type</th>\n",
       "      <th>id</th>\n",
       "      <th>path</th>\n",
       "    </tr>\n",
       "  </thead>\n",
       "  <tbody>\n",
       "    <tr>\n",
       "      <th>0</th>\n",
       "      <td>bubble chart</td>\n",
       "      <td>143</td>\n",
       "      <td>https://s3.eu-central-1.amazonaws.com/namethat...</td>\n",
       "    </tr>\n",
       "    <tr>\n",
       "      <th>1</th>\n",
       "      <td>tree diagram</td>\n",
       "      <td>238</td>\n",
       "      <td>https://s3.eu-central-1.amazonaws.com/namethat...</td>\n",
       "    </tr>\n",
       "    <tr>\n",
       "      <th>2</th>\n",
       "      <td>candlestick chart</td>\n",
       "      <td>7</td>\n",
       "      <td>https://s3.eu-central-1.amazonaws.com/namethat...</td>\n",
       "    </tr>\n",
       "    <tr>\n",
       "      <th>3</th>\n",
       "      <td>tree diagram</td>\n",
       "      <td>81</td>\n",
       "      <td>https://s3.eu-central-1.amazonaws.com/namethat...</td>\n",
       "    </tr>\n",
       "    <tr>\n",
       "      <th>4</th>\n",
       "      <td>tree diagram</td>\n",
       "      <td>217</td>\n",
       "      <td>https://s3.eu-central-1.amazonaws.com/namethat...</td>\n",
       "    </tr>\n",
       "    <tr>\n",
       "      <th>5</th>\n",
       "      <td>candlestick chart</td>\n",
       "      <td>222</td>\n",
       "      <td>https://s3.eu-central-1.amazonaws.com/namethat...</td>\n",
       "    </tr>\n",
       "    <tr>\n",
       "      <th>6</th>\n",
       "      <td>bubble chart</td>\n",
       "      <td>146</td>\n",
       "      <td>https://s3.eu-central-1.amazonaws.com/namethat...</td>\n",
       "    </tr>\n",
       "    <tr>\n",
       "      <th>7</th>\n",
       "      <td>bubble chart</td>\n",
       "      <td>48</td>\n",
       "      <td>https://s3.eu-central-1.amazonaws.com/namethat...</td>\n",
       "    </tr>\n",
       "    <tr>\n",
       "      <th>8</th>\n",
       "      <td>network diagram</td>\n",
       "      <td>191</td>\n",
       "      <td>https://s3.eu-central-1.amazonaws.com/namethat...</td>\n",
       "    </tr>\n",
       "    <tr>\n",
       "      <th>9</th>\n",
       "      <td>tree diagram</td>\n",
       "      <td>78</td>\n",
       "      <td>https://s3.eu-central-1.amazonaws.com/namethat...</td>\n",
       "    </tr>\n",
       "  </tbody>\n",
       "</table>\n",
       "</div>"
      ],
      "text/plain": [
       "                Type   id                                               path\n",
       "0       bubble chart  143  https://s3.eu-central-1.amazonaws.com/namethat...\n",
       "1       tree diagram  238  https://s3.eu-central-1.amazonaws.com/namethat...\n",
       "2  candlestick chart    7  https://s3.eu-central-1.amazonaws.com/namethat...\n",
       "3       tree diagram   81  https://s3.eu-central-1.amazonaws.com/namethat...\n",
       "4       tree diagram  217  https://s3.eu-central-1.amazonaws.com/namethat...\n",
       "5  candlestick chart  222  https://s3.eu-central-1.amazonaws.com/namethat...\n",
       "6       bubble chart  146  https://s3.eu-central-1.amazonaws.com/namethat...\n",
       "7       bubble chart   48  https://s3.eu-central-1.amazonaws.com/namethat...\n",
       "8    network diagram  191  https://s3.eu-central-1.amazonaws.com/namethat...\n",
       "9       tree diagram   78  https://s3.eu-central-1.amazonaws.com/namethat..."
      ]
     },
     "execution_count": 59,
     "metadata": {},
     "output_type": "execute_result"
    }
   ],
   "source": [
    "df_images[:10]"
   ]
  },
  {
   "cell_type": "code",
   "execution_count": 17,
   "metadata": {},
   "outputs": [
    {
     "name": "stdout",
     "output_type": "stream",
     "text": [
      "Total number of images in dataset: 4856\n"
     ]
    }
   ],
   "source": [
    "stats[\"nbTotalImages\"] = len(df_images)\n",
    "print(\"Total number of images in dataset: %s\" % stats[\"nbTotalImages\"])"
   ]
  },
  {
   "cell_type": "markdown",
   "metadata": {},
   "source": [
    "## Participants analysis\n",
    "\n",
    "TODO \n",
    "\n",
    "* Number of answers / logs per participants (show distribution)\n",
    "* Longest series of answers\n",
    "* Participants with most accuracy\n",
    "* Ones that are similar / agree together\n",
    "* Ones that are not consensual at all\n",
    "* Outliers\n",
    "* Cluster by participants similarities\n"
   ]
  },
  {
   "cell_type": "code",
   "execution_count": null,
   "metadata": {
    "collapsed": true
   },
   "outputs": [],
   "source": []
  },
  {
   "cell_type": "code",
   "execution_count": null,
   "metadata": {
    "collapsed": true
   },
   "outputs": [],
   "source": []
  },
  {
   "cell_type": "code",
   "execution_count": null,
   "metadata": {
    "collapsed": true
   },
   "outputs": [],
   "source": []
  },
  {
   "cell_type": "markdown",
   "metadata": {},
   "source": [
    "# Building a Graph of Similiarities\n",
    "\n",
    "\n",
    "TODO\n",
    "\n",
    "* Load images as graph node\n",
    "  *  Only images that have a category!\n",
    "* Node size should vary based on some attribute\n",
    "* Link size also both visually and in terms of strenght\n",
    "* Make the layout deterministic to render the same each time?\n",
    "* Add images in nodes circles (SVG background)\n",
    "* Hover shows the full chart\n",
    "*\n",
    "\n",
    "* Create a matrix that will be the foundation for the taxonomy graph\n",
    "* \n",
    "\n",
    "* Graph chart layout -> Plotly?\n",
    "* Sankey Diagram https://github.com/ricklupton/ipysankeywidget\n"
   ]
  },
  {
   "cell_type": "code",
   "execution_count": null,
   "metadata": {
    "collapsed": true
   },
   "outputs": [],
   "source": []
  },
  {
   "cell_type": "code",
   "execution_count": 18,
   "metadata": {
    "collapsed": true
   },
   "outputs": [],
   "source": [
    "import json\n",
    "\n",
    "nodes_list = []\n",
    "links_list = []\n",
    "json_data = {\"nodes\":nodes_list, \"links\":links_list}"
   ]
  },
  {
   "cell_type": "code",
   "execution_count": 19,
   "metadata": {
    "collapsed": true
   },
   "outputs": [],
   "source": [
    "# Fake data\n",
    "nodes_list.append({\"id\": \"Myriel\", \"group\": 1})\n",
    "nodes_list.append({\"id\": \"Napoleon\", \"group\": 1})\n",
    "nodes_list.append({\"id\": \"Mlle.Baptistine\", \"group\": 1})\n",
    "\n",
    "links_list.append({\"source\": \"Napoleon\", \"target\": \"Myriel\", \"value\": 1})"
   ]
  },
  {
   "cell_type": "code",
   "execution_count": 20,
   "metadata": {},
   "outputs": [
    {
     "name": "stdout",
     "output_type": "stream",
     "text": [
      "{\n",
      " \"links\": [\n",
      "  {\n",
      "   \"source\": \"Napoleon\",\n",
      "   \"target\": \"Myriel\",\n",
      "   \"value\": 1\n",
      "  }\n",
      " ],\n",
      " \"nodes\": [\n",
      "  {\n",
      "   \"group\": 1,\n",
      "   \"id\": \"Myriel\"\n",
      "  },\n",
      "  {\n",
      "   \"group\": 1,\n",
      "   \"id\": \"Napoleon\"\n",
      "  },\n",
      "  {\n",
      "   \"group\": 1,\n",
      "   \"id\": \"Mlle.Baptistine\"\n",
      "  }\n",
      " ]\n",
      "}\n"
     ]
    }
   ],
   "source": [
    "json_dump = json.dumps(json_data, indent=1, sort_keys=True)\n",
    "print(json_dump)"
   ]
  },
  {
   "cell_type": "code",
   "execution_count": 21,
   "metadata": {
    "collapsed": true
   },
   "outputs": [],
   "source": [
    "graph_file = '/Users/rvuillemot/Dev/NameThatChart/graph/data.json'\n",
    "json_out = open(graph_file, 'w')\n",
    "json_out.write(json_dump)\n",
    "json_out.close()"
   ]
  },
  {
   "cell_type": "code",
   "execution_count": null,
   "metadata": {
    "collapsed": true
   },
   "outputs": [],
   "source": []
  },
  {
   "cell_type": "markdown",
   "metadata": {},
   "source": [
    "# Empirical Study of Current Taxonomies\n",
    "\n",
    "* Original spreadsheet https://docs.google.com/spreadsheets/d/1pObBSCB38wGJmrh8lxl1agYS94ZTggemnfOrM-v_YgI/edit?usp=sharing\n"
   ]
  },
  {
   "cell_type": "code",
   "execution_count": 44,
   "metadata": {},
   "outputs": [
    {
     "data": {
      "text/html": [
       "<div>\n",
       "<table border=\"1\" class=\"dataframe\">\n",
       "  <thead>\n",
       "    <tr style=\"text-align: right;\">\n",
       "      <th></th>\n",
       "      <th>URL</th>\n",
       "      <th>origin</th>\n",
       "      <th>nb_vis_types</th>\n",
       "      <th>nb_vis_levels</th>\n",
       "      <th>nb_levels</th>\n",
       "      <th>nb_templates</th>\n",
       "    </tr>\n",
       "  </thead>\n",
       "  <tbody>\n",
       "    <tr>\n",
       "      <th>Dataviz for all</th>\n",
       "      <td>https://www.datavizforall.org/chart/</td>\n",
       "      <td>tutorial</td>\n",
       "      <td>NaN</td>\n",
       "      <td>NaN</td>\n",
       "      <td>NaN</td>\n",
       "      <td>NaN</td>\n",
       "    </tr>\n",
       "    <tr>\n",
       "      <th>Protovis</th>\n",
       "      <td>http://mbostock.github.io/protovis/ex/</td>\n",
       "      <td>toolkit</td>\n",
       "      <td>NaN</td>\n",
       "      <td>NaN</td>\n",
       "      <td>NaN</td>\n",
       "      <td>NaN</td>\n",
       "    </tr>\n",
       "    <tr>\n",
       "      <th>A periodic table</th>\n",
       "      <td>http://www.visual-literacy.org/periodic_table/...</td>\n",
       "      <td>tutorial</td>\n",
       "      <td>NaN</td>\n",
       "      <td>NaN</td>\n",
       "      <td>NaN</td>\n",
       "      <td>NaN</td>\n",
       "    </tr>\n",
       "    <tr>\n",
       "      <th>Highcharts</th>\n",
       "      <td>https://www.highcharts.com/demo</td>\n",
       "      <td>toolkit</td>\n",
       "      <td>NaN</td>\n",
       "      <td>NaN</td>\n",
       "      <td>NaN</td>\n",
       "      <td>NaN</td>\n",
       "    </tr>\n",
       "    <tr>\n",
       "      <th>Vega</th>\n",
       "      <td>https://vega.github.io/vega/examples/</td>\n",
       "      <td>toolkit</td>\n",
       "      <td>NaN</td>\n",
       "      <td>NaN</td>\n",
       "      <td>NaN</td>\n",
       "      <td>NaN</td>\n",
       "    </tr>\n",
       "  </tbody>\n",
       "</table>\n",
       "</div>"
      ],
      "text/plain": [
       "                                                                URL    origin  \\\n",
       "Dataviz for all                https://www.datavizforall.org/chart/  tutorial   \n",
       "Protovis                     http://mbostock.github.io/protovis/ex/   toolkit   \n",
       "A periodic table  http://www.visual-literacy.org/periodic_table/...  tutorial   \n",
       "Highcharts                          https://www.highcharts.com/demo   toolkit   \n",
       "Vega                          https://vega.github.io/vega/examples/   toolkit   \n",
       "\n",
       "                 nb_vis_types  nb_vis_levels  nb_levels  nb_templates  \n",
       "Dataviz for all           NaN            NaN        NaN           NaN  \n",
       "Protovis                  NaN            NaN        NaN           NaN  \n",
       "A periodic table          NaN            NaN        NaN           NaN  \n",
       "Highcharts                NaN            NaN        NaN           NaN  \n",
       "Vega                      NaN            NaN        NaN           NaN  "
      ]
     },
     "execution_count": 44,
     "metadata": {},
     "output_type": "execute_result"
    }
   ],
   "source": [
    "df_taxonomy = pd.read_csv('https://docs.google.com/spreadsheets/d/' + \n",
    "                   '1pObBSCB38wGJmrh8lxl1agYS94ZTggemnfOrM-v_YgI' +\n",
    "                   '/export?gid=0&format=csv',\n",
    "                   # Set first column as rownames in data frame\n",
    "                   index_col=0\n",
    "                  )\n",
    "df_taxonomy.head(5)"
   ]
  },
  {
   "cell_type": "code",
   "execution_count": 45,
   "metadata": {},
   "outputs": [
    {
     "data": {
      "text/plain": [
       "29"
      ]
     },
     "execution_count": 45,
     "metadata": {},
     "output_type": "execute_result"
    }
   ],
   "source": [
    "stats[\"nbTaxonomies\"] = df_taxonomy['origin'].count()\n",
    "stats[\"nbTaxonomies\"]"
   ]
  },
  {
   "cell_type": "code",
   "execution_count": 46,
   "metadata": {},
   "outputs": [
    {
     "data": {
      "text/plain": [
       "7"
      ]
     },
     "execution_count": 46,
     "metadata": {},
     "output_type": "execute_result"
    }
   ],
   "source": [
    "stats[\"nbTaxonomiesTutorial\"] = len(df_taxonomy[df_taxonomy.origin == 'tutorial'])\n",
    "stats[\"nbTaxonomiesTutorial\"]"
   ]
  },
  {
   "cell_type": "code",
   "execution_count": 47,
   "metadata": {},
   "outputs": [
    {
     "data": {
      "text/plain": [
       "8"
      ]
     },
     "execution_count": 47,
     "metadata": {},
     "output_type": "execute_result"
    }
   ],
   "source": [
    "stats[\"nbTaxonomiesSoftware\"] = len(df_taxonomy[df_taxonomy.origin == 'software'])\n",
    "stats[\"nbTaxonomiesSoftware\"]"
   ]
  },
  {
   "cell_type": "code",
   "execution_count": 48,
   "metadata": {},
   "outputs": [
    {
     "data": {
      "text/plain": [
       "29"
      ]
     },
     "execution_count": 48,
     "metadata": {},
     "output_type": "execute_result"
    }
   ],
   "source": [
    "df_taxonomy['origin'].count()"
   ]
  },
  {
   "cell_type": "code",
   "execution_count": null,
   "metadata": {
    "collapsed": true
   },
   "outputs": [],
   "source": []
  },
  {
   "cell_type": "code",
   "execution_count": null,
   "metadata": {
    "collapsed": true
   },
   "outputs": [],
   "source": []
  },
  {
   "cell_type": "code",
   "execution_count": null,
   "metadata": {
    "collapsed": true
   },
   "outputs": [],
   "source": [
    "\n"
   ]
  },
  {
   "cell_type": "markdown",
   "metadata": {},
   "source": [
    "## Stats writing\n",
    "\n",
    "e.g.:\n",
    "\n",
    "```\n",
    "\\def \\totalTaxonomies {$12$~}\n",
    "\\def \\totalCategories {$5$~}\n",
    "```"
   ]
  },
  {
   "cell_type": "code",
   "execution_count": 35,
   "metadata": {},
   "outputs": [],
   "source": [
    "# stats = {}"
   ]
  },
  {
   "cell_type": "code",
   "execution_count": 36,
   "metadata": {
    "collapsed": true
   },
   "outputs": [],
   "source": [
    "stats_file = \"/Users/rvuillemot/Dropbox/paper-2017-crowdvis/stats.inc\"\n",
    "stats_content = \"\" #\"\\def \\\\totalTaxonomies {15~}\\n\""
   ]
  },
  {
   "cell_type": "code",
   "execution_count": 37,
   "metadata": {},
   "outputs": [
    {
     "name": "stdout",
     "output_type": "stream",
     "text": [
      "totalFoundTaxonomies 23\n",
      "nbTotalLogsEntries 6640\n",
      "nbUniqueUsers 20\n",
      "nbTaxonomies 23\n",
      "totalFoundTaxonomiesTutorial 6\n",
      "nbTaxonomiesTutorial 6\n",
      "totalFoundTaxonomiesSoftware 3\n",
      "nbTaxonomiesSoftware 3\n",
      "nbTotalImages 4856\n"
     ]
    }
   ],
   "source": [
    "for s in stats:\n",
    "    print(s, stats[s])\n",
    "    stats_content += \"\\def \\\\%s {%s}\\n\" % (s, stats[s])"
   ]
  },
  {
   "cell_type": "code",
   "execution_count": 38,
   "metadata": {
    "collapsed": true
   },
   "outputs": [],
   "source": [
    "text_file = open(stats_file, \"w\")\n",
    "text_file.write(stats_content)\n",
    "text_file.close()"
   ]
  },
  {
   "cell_type": "code",
   "execution_count": null,
   "metadata": {
    "collapsed": true
   },
   "outputs": [],
   "source": []
  },
  {
   "cell_type": "code",
   "execution_count": null,
   "metadata": {
    "collapsed": true
   },
   "outputs": [],
   "source": []
  },
  {
   "cell_type": "code",
   "execution_count": null,
   "metadata": {
    "collapsed": true
   },
   "outputs": [],
   "source": []
  },
  {
   "cell_type": "code",
   "execution_count": null,
   "metadata": {
    "collapsed": true
   },
   "outputs": [],
   "source": []
  },
  {
   "cell_type": "code",
   "execution_count": null,
   "metadata": {
    "collapsed": true
   },
   "outputs": [],
   "source": []
  },
  {
   "cell_type": "code",
   "execution_count": null,
   "metadata": {
    "collapsed": true
   },
   "outputs": [],
   "source": []
  },
  {
   "cell_type": "code",
   "execution_count": null,
   "metadata": {
    "collapsed": true
   },
   "outputs": [],
   "source": []
  },
  {
   "cell_type": "code",
   "execution_count": null,
   "metadata": {
    "collapsed": true
   },
   "outputs": [],
   "source": []
  },
  {
   "cell_type": "code",
   "execution_count": null,
   "metadata": {
    "collapsed": true
   },
   "outputs": [],
   "source": []
  },
  {
   "cell_type": "code",
   "execution_count": null,
   "metadata": {
    "collapsed": true
   },
   "outputs": [],
   "source": []
  },
  {
   "cell_type": "code",
   "execution_count": null,
   "metadata": {
    "collapsed": true
   },
   "outputs": [],
   "source": []
  },
  {
   "cell_type": "code",
   "execution_count": null,
   "metadata": {
    "collapsed": true
   },
   "outputs": [],
   "source": []
  },
  {
   "cell_type": "code",
   "execution_count": null,
   "metadata": {
    "collapsed": true
   },
   "outputs": [],
   "source": []
  },
  {
   "cell_type": "code",
   "execution_count": null,
   "metadata": {
    "collapsed": true
   },
   "outputs": [],
   "source": []
  },
  {
   "cell_type": "code",
   "execution_count": null,
   "metadata": {
    "collapsed": true
   },
   "outputs": [],
   "source": []
  },
  {
   "cell_type": "code",
   "execution_count": null,
   "metadata": {
    "collapsed": true
   },
   "outputs": [],
   "source": []
  },
  {
   "cell_type": "code",
   "execution_count": null,
   "metadata": {
    "collapsed": true
   },
   "outputs": [],
   "source": []
  }
 ],
 "metadata": {
  "kernelspec": {
   "display_name": "IPython (Python 3)",
   "language": "python",
   "name": "python3"
  },
  "language_info": {
   "codemirror_mode": {
    "name": "ipython",
    "version": 3
   },
   "file_extension": ".py",
   "mimetype": "text/x-python",
   "name": "python",
   "nbconvert_exporter": "python",
   "pygments_lexer": "ipython3",
   "version": "3.5.1"
  }
 },
 "nbformat": 4,
 "nbformat_minor": 2
}
